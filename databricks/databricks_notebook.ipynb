{
 "cells": [
  {
   "cell_type": "code",
   "execution_count": 0,
   "metadata": {
    "application/vnd.databricks.v1+cell": {
     "cellMetadata": {
      "byteLimit": 2048000,
      "rowLimit": 10000
     },
     "inputWidgets": {},
     "nuid": "f7bb6d42-b81d-41a4-8748-e471b48424c4",
     "showTitle": false,
     "title": ""
    }
   },
   "outputs": [
    {
     "output_type": "stream",
     "name": "stdout",
     "output_type": "stream",
     "text": [
      "Out[2]: True"
     ]
    }
   ],
   "source": [
    "configs = {\"fs.azure.account.auth.type\": \"\",\n",
    "\"fs.azure.account.oauth.provider.type\": \"\",\n",
    "\"fs.azure.account.oauth2.client.id\": \"\",\n",
    "\"fs.azure.account.oauth2.client.secret\": \"\",\n",
    "\"fs.azure.account.oauth2.client.endpoint\": \"\"}\n",
    "\n",
    "dbutils.fs.mount(\n",
    "source = \"\",\n",
    "mount_point = \"/mnt/data\",\n",
    "extra_configs = configs)\n"
   ]
  },
  {
   "cell_type": "code",
   "execution_count": 0,
   "metadata": {
    "application/vnd.databricks.v1+cell": {
     "cellMetadata": {
      "byteLimit": 2048000,
      "rowLimit": 10000
     },
     "inputWidgets": {},
     "nuid": "49b8f5a0-eb12-462d-806d-5c92c309e682",
     "showTitle": false,
     "title": ""
    }
   },
   "outputs": [],
   "source": [
    "from pyspark.sql.functions import *"
   ]
  },
  {
   "cell_type": "code",
   "execution_count": 0,
   "metadata": {
    "application/vnd.databricks.v1+cell": {
     "cellMetadata": {
      "byteLimit": 2048000,
      "rowLimit": 10000
     },
     "inputWidgets": {},
     "nuid": "78b8a356-6f4b-410c-a1ca-958e360b7549",
     "showTitle": false,
     "title": ""
    }
   },
   "outputs": [
    {
     "output_type": "display_data",
     "data": {
      "text/html": [
       "<style scoped>\n",
       "  .table-result-container {\n",
       "    max-height: 300px;\n",
       "    overflow: auto;\n",
       "  }\n",
       "  table, th, td {\n",
       "    border: 1px solid black;\n",
       "    border-collapse: collapse;\n",
       "  }\n",
       "  th, td {\n",
       "    padding: 5px;\n",
       "  }\n",
       "  th {\n",
       "    text-align: left;\n",
       "  }\n",
       "</style><div class='table-result-container'><table class='table-result'><thead style='background-color: white'><tr><th>path</th><th>name</th><th>size</th><th>modificationTime</th></tr></thead><tbody><tr><td>dbfs:/mnt/data/raw-data/</td><td>raw-data/</td><td>0</td><td>1694709185000</td></tr><tr><td>dbfs:/mnt/data/tr-data/</td><td>tr-data/</td><td>0</td><td>1694709192000</td></tr></tbody></table></div>"
      ]
     },
     "metadata": {
      "application/vnd.databricks.v1+output": {
       "addedWidgets": {},
       "aggData": [],
       "aggError": "",
       "aggOverflow": false,
       "aggSchema": [],
       "aggSeriesLimitReached": false,
       "aggType": "",
       "arguments": {},
       "columnCustomDisplayInfos": {},
       "data": [
        [
         "dbfs:/mnt/data/raw-data/",
         "raw-data/",
         0,
         1694709185000
        ],
        [
         "dbfs:/mnt/data/tr-data/",
         "tr-data/",
         0,
         1694709192000
        ]
       ],
       "datasetInfos": [],
       "dbfsResultPath": null,
       "isJsonSchema": true,
       "metadata": {
        "isDbfsCommandResult": false
       },
       "overflow": false,
       "plotOptions": {
        "customPlotOptions": {},
        "displayType": "table",
        "pivotAggregation": null,
        "pivotColumns": null,
        "xColumns": null,
        "yColumns": null
       },
       "removedWidgets": [],
       "schema": [
        {
         "metadata": "{}",
         "name": "path",
         "type": "\"string\""
        },
        {
         "metadata": "{}",
         "name": "name",
         "type": "\"string\""
        },
        {
         "metadata": "{}",
         "name": "size",
         "type": "\"long\""
        },
        {
         "metadata": "{}",
         "name": "modificationTime",
         "type": "\"long\""
        }
       ],
       "type": "table"
      }
     },
     "output_type": "display_data"
    }
   ],
   "source": [
    "%fs\n",
    "ls \"/mnt/data\""
   ]
  },
  {
   "cell_type": "code",
   "execution_count": 0,
   "metadata": {
    "application/vnd.databricks.v1+cell": {
     "cellMetadata": {
      "byteLimit": 2048000,
      "rowLimit": 10000
     },
     "inputWidgets": {},
     "nuid": "91852c73-8b2e-4a50-83a3-d2d6a1d5813d",
     "showTitle": false,
     "title": ""
    }
   },
   "outputs": [],
   "source": [
    "tmp = spark.read.format(\"csv\").option(\"header\",\"true\").load(\"/mnt/data/raw-data/data.csv\")\n",
    "tmp = tmp.withColumn(\"exchangedate\", to_date(col(\"exchangedate\"), \"dd.MM.yyyy\")).orderBy(col(\"exchangedate\"))\n",
    "#tmp.printSchema()"
   ]
  },
  {
   "cell_type": "code",
   "execution_count": 0,
   "metadata": {
    "application/vnd.databricks.v1+cell": {
     "cellMetadata": {
      "byteLimit": 2048000,
      "rowLimit": 10000
     },
     "inputWidgets": {},
     "nuid": "410080be-6b30-4feb-ad46-fb04dfe92153",
     "showTitle": false,
     "title": ""
    }
   },
   "outputs": [
    {
     "output_type": "stream",
     "name": "stdout",
     "output_type": "stream",
     "text": [
      "+------------+----+---+---------+------+---------+-----+-------------+-----+--------+\n|exchangedate|r030| cc|      txt|enname|     rate|units|rate_per_unit|group|calcdate|\n+------------+----+---+---------+------+---------+-----+-------------+-----+--------+\n|  2014-01-01| 840|USD|Долар США|  null|    799.3|  100|        7.993|    1|        |\n|  2014-01-02| 840|USD|Долар США|  null|    799.3|  100|        7.993|    1|        |\n|  2014-01-03| 840|USD|Долар США|  null|    799.3|  100|        7.993|    1|        |\n|  2014-01-04| 840|USD|Долар США|  null|    799.3|  100|        7.993|    1|        |\n|  2014-01-05| 840|USD|Долар США|  null|    799.3|  100|        7.993|    1|        |\n|  2014-01-06| 840|USD|Долар США|  null|    799.3|  100|        7.993|    1|        |\n|  2014-01-07| 840|USD|Долар США|  null|    799.3|  100|        7.993|    1|        |\n|  2014-01-08| 840|USD|Долар США|  null|    799.3|  100|        7.993|    1|        |\n|  2014-01-09| 840|USD|Долар США|  null|    799.3|  100|        7.993|    1|        |\n|  2014-01-10| 840|USD|Долар США|  null|    799.3|  100|        7.993|    1|        |\n|  2014-01-11| 840|USD|Долар США|  null|    799.3|  100|        7.993|    1|        |\n|  2014-01-12| 840|USD|Долар США|  null|    799.3|  100|        7.993|    1|        |\n|  2014-01-13| 840|USD|Долар США|  null|    799.3|  100|        7.993|    1|        |\n|  2014-01-14| 840|USD|Долар США|  null|    799.3|  100|        7.993|    1|        |\n|  2014-01-15| 840|USD|Долар США|  null|    799.3|  100|        7.993|    1|        |\n|  2014-01-16| 840|USD|Долар США|  null|    799.3|  100|        7.993|    1|        |\n|  2014-01-17| 840|USD|Долар США|  null|    799.3|  100|        7.993|    1|        |\n|  2014-01-18| 840|USD|Долар США|  null|    799.3|  100|        7.993|    1|        |\n|  2014-01-19| 840|USD|Долар США|  null|    799.3|  100|        7.993|    1|        |\n|  2014-01-20| 840|USD|Долар США|  null|    799.3|  100|        7.993|    1|        |\n|  2014-01-21| 840|USD|Долар США|  null|    799.3|  100|        7.993|    1|        |\n|  2014-01-22| 840|USD|Долар США|  null|    799.3|  100|        7.993|    1|        |\n|  2014-01-23| 840|USD|Долар США|  null|    799.3|  100|        7.993|    1|        |\n|  2014-01-24| 840|USD|Долар США|  null|    799.3|  100|        7.993|    1|        |\n|  2014-01-25| 840|USD|Долар США|  null|    799.3|  100|        7.993|    1|        |\n|  2014-01-26| 840|USD|Долар США|  null|    799.3|  100|        7.993|    1|        |\n|  2014-01-27| 840|USD|Долар США|  null|    799.3|  100|        7.993|    1|        |\n|  2014-01-28| 840|USD|Долар США|  null|    799.3|  100|        7.993|    1|        |\n|  2014-01-29| 840|USD|Долар США|  null|    799.3|  100|        7.993|    1|        |\n|  2014-01-30| 840|USD|Долар США|  null|    799.3|  100|        7.993|    1|        |\n|  2014-01-31| 840|USD|Долар США|  null|    799.3|  100|        7.993|    1|        |\n|  2014-02-01| 840|USD|Долар США|  null|    799.3|  100|        7.993|    1|        |\n|  2014-02-02| 840|USD|Долар США|  null|    799.3|  100|        7.993|    1|        |\n|  2014-02-03| 840|USD|Долар США|  null|    799.3|  100|        7.993|    1|        |\n|  2014-02-04| 840|USD|Долар США|  null|    799.3|  100|        7.993|    1|        |\n|  2014-02-05| 840|USD|Долар США|  null|    799.3|  100|        7.993|    1|        |\n|  2014-02-06| 840|USD|Долар США|  null|    799.3|  100|        7.993|    1|        |\n|  2014-02-07| 840|USD|Долар США|  null|    870.8|  100|        8.708|    1|        |\n|  2014-02-08| 840|USD|Долар США|  null|    870.8|  100|        8.708|    1|        |\n|  2014-02-09| 840|USD|Долар США|  null|    870.8|  100|        8.708|    1|        |\n|  2014-02-10| 840|USD|Долар США|  null|   852.82|  100|       8.5282|    1|        |\n|  2014-02-11| 840|USD|Долар США|  null|   855.32|  100|       8.5532|    1|        |\n|  2014-02-12| 840|USD|Долар США|  null|   855.07|  100|       8.5507|    1|        |\n|  2014-02-13| 840|USD|Долар США|  null|   855.07|  100|       8.5507|    1|        |\n|  2014-02-14| 840|USD|Долар США|  null|   863.09|  100|       8.6309|    1|        |\n|  2014-02-15| 840|USD|Долар США|  null|   863.09|  100|       8.6309|    1|        |\n|  2014-02-16| 840|USD|Долар США|  null|   863.09|  100|       8.6309|    1|        |\n|  2014-02-17| 840|USD|Долар США|  null|   864.05|  100|       8.6405|    1|        |\n|  2014-02-18| 840|USD|Долар США|  null|   864.58|  100|       8.6458|    1|        |\n|  2014-02-19| 840|USD|Долар США|  null|   868.69|  100|       8.6869|    1|        |\n|  2014-02-20| 840|USD|Долар США|  null|   878.52|  100|       8.7852|    1|        |\n|  2014-02-21| 840|USD|Долар США|  null|    883.8|  100|        8.838|    1|        |\n|  2014-02-22| 840|USD|Долар США|  null|    883.8|  100|        8.838|    1|        |\n|  2014-02-23| 840|USD|Долар США|  null|    883.8|  100|        8.838|    1|        |\n|  2014-02-24| 840|USD|Долар США|  null|    893.8|  100|        8.938|    1|        |\n|  2014-02-25| 840|USD|Долар США|  null|   903.77|  100|       9.0377|    1|        |\n|  2014-02-26| 840|USD|Долар США|  null|   942.69|  100|       9.4269|    1|        |\n|  2014-02-27| 840|USD|Долар США|  null|   951.79|  100|       9.5179|    1|        |\n|  2014-02-28| 840|USD|Долар США|  null|   998.63|  100|       9.9863|    1|        |\n|  2014-03-01| 840|USD|Долар США|  null|   998.63|  100|       9.9863|    1|        |\n|  2014-03-02| 840|USD|Долар США|  null|   998.63|  100|       9.9863|    1|        |\n|  2014-03-03| 840|USD|Долар США|  null|   969.94|  100|       9.6994|    1|        |\n|  2014-03-04| 840|USD|Долар США|  null|   999.24|  100|       9.9924|    1|        |\n|  2014-03-05| 840|USD|Долар США|  null|   972.41|  100|       9.7241|    1|        |\n|  2014-03-06| 840|USD|Долар США|  null|   944.89|  100|       9.4489|    1|        |\n|  2014-03-07| 840|USD|Долар США|  null|   938.79|  100|       9.3879|    1|        |\n|  2014-03-08| 840|USD|Долар США|  null|   938.79|  100|       9.3879|    1|        |\n|  2014-03-09| 840|USD|Долар США|  null|   938.79|  100|       9.3879|    1|        |\n|  2014-03-10| 840|USD|Долар США|  null|   938.79|  100|       9.3879|    1|        |\n|  2014-03-11| 840|USD|Долар США|  null|   923.59|  100|       9.2359|    1|        |\n|  2014-03-12| 840|USD|Долар США|  null|   929.75|  100|       9.2975|    1|        |\n|  2014-03-13| 840|USD|Долар США|  null|   928.23|  100|       9.2823|    1|        |\n|  2014-03-14| 840|USD|Долар США|  null|   947.59|  100|       9.4759|    1|        |\n|  2014-03-15| 840|USD|Долар США|  null|   947.59|  100|       9.4759|    1|        |\n|  2014-03-16| 840|USD|Долар США|  null|   947.59|  100|       9.4759|    1|        |\n|  2014-03-17| 840|USD|Долар США|  null|   960.07|  100|       9.6007|    1|        |\n|  2014-03-18| 840|USD|Долар США|  null|   975.68|  100|       9.7568|    1|        |\n|  2014-03-19| 840|USD|Долар США|  null|   995.98|  100|       9.9598|    1|        |\n|  2014-03-20| 840|USD|Долар США|  null|   991.78|  100|       9.9178|    1|        |\n|  2014-03-21| 840|USD|Долар США|  null|  1010.92|  100|      10.1092|    1|        |\n|  2014-03-22| 840|USD|Долар США|  null|  1010.92|  100|      10.1092|    1|        |\n|  2014-03-23| 840|USD|Долар США|  null|  1010.92|  100|      10.1092|    1|        |\n|  2014-03-24| 840|USD|Долар США|  null|  1019.65|  100|      10.1965|    1|        |\n|  2014-03-25| 840|USD|Долар США|  null|  1037.62|  100|      10.3762|    1|        |\n|  2014-03-26| 840|USD|Долар США|  null|  1057.58|  100|      10.5758|    1|        |\n|  2014-03-27| 840|USD|Долар США|  null|  1067.21|  100|      10.6721|    1|        |\n|  2014-03-28| 840|USD|Долар США|  null|  1085.02|  100|      10.8502|    1|        |\n|  2014-03-29| 840|USD|Долар США|  null|  1085.02|  100|      10.8502|    1|        |\n|  2014-03-30| 840|USD|Долар США|  null|  1085.02|  100|      10.8502|    1|        |\n|  2014-03-31| 840|USD|Долар США|  null|  1095.46|  100|      10.9546|    1|        |\n|  2014-04-01| 840|USD|Долар США|  null|  1099.81|  100|      10.9981|    1|        |\n|  2014-04-02| 840|USD|Долар США|  null|  1110.62|  100|      11.1062|    1|        |\n|  2014-04-03| 840|USD|Долар США|  null|  1124.16|  100|      11.2416|    1|        |\n|  2014-04-04| 840|USD|Долар США|  null|1160.1102|  100|    11.601102|    1|        |\n|  2014-04-05| 840|USD|Долар США|  null|1160.1102|  100|    11.601102|    1|        |\n|  2014-04-06| 840|USD|Долар США|  null|1160.1102|  100|    11.601102|    1|        |\n|  2014-04-07| 840|USD|Долар США|  null|1165.0969|  100|    11.650969|    1|        |\n|  2014-04-08| 840|USD|Долар США|  null|1172.8167|  100|    11.728167|    1|        |\n|  2014-04-09| 840|USD|Долар США|  null|1187.8416|  100|    11.878416|    1|        |\n|  2014-04-10| 840|USD|Долар США|  null|1261.7898|  100|    12.617898|    1|        |\n+------------+----+---+---------+------+---------+-----+-------------+-----+--------+\nonly showing top 100 rows\n\n"
     ]
    }
   ],
   "source": [
    "tmp.show(100)"
   ]
  },
  {
   "cell_type": "code",
   "execution_count": 0,
   "metadata": {
    "application/vnd.databricks.v1+cell": {
     "cellMetadata": {
      "byteLimit": 2048000,
      "rowLimit": 10000
     },
     "inputWidgets": {},
     "nuid": "422ee65e-6e07-4552-991e-4a1b8e25b960",
     "showTitle": false,
     "title": ""
    }
   },
   "outputs": [],
   "source": [
    "tmp.repartition(1).write.mode(\"overwrite\").option(\"header\",\"true\").csv(\"/mnt/data/tr-data/result\")"
   ]
  }
 ],
 "metadata": {
  "application/vnd.databricks.v1+notebook": {
   "dashboards": [],
   "language": "python",
   "notebookMetadata": {
    "mostRecentlyExecutedCommandWithImplicitDF": {
     "commandId": 4321712601780911,
     "dataframes": [
      "_sqldf"
     ]
    },
    "pythonIndentUnit": 4
   },
   "notebookName": "Untitled Notebook 2023-09-10 17:11:11",
   "widgets": {}
  }
 },
 "nbformat": 4,
 "nbformat_minor": 0
}
